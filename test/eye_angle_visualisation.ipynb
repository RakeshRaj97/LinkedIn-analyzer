{
 "cells": [
  {
   "cell_type": "code",
   "execution_count": 22,
   "metadata": {},
   "outputs": [],
   "source": [
    "import cv2\n",
    "import face_recognition\n",
    "import numpy as np\n",
    "import matplotlib.pyplot as plt\n",
    "from PIL import Image, ImageDraw\n",
    "%matplotlib inline"
   ]
  },
  {
   "cell_type": "code",
   "execution_count": 7,
   "metadata": {},
   "outputs": [],
   "source": [
    "image_file = \"image.jpeg\"\n",
    "image = face_recognition.load_image_file(image_file)\n",
    "face_landmarks_list = face_recognition.face_landmarks(image)"
   ]
  },
  {
   "cell_type": "code",
   "execution_count": 8,
   "metadata": {},
   "outputs": [
    {
     "name": "stdout",
     "output_type": "stream",
     "text": [
      "I found 1 face(s) in this photograph.\n"
     ]
    }
   ],
   "source": [
    "print(\"I found {} face(s) in this photograph.\".format(len(face_landmarks_list)))"
   ]
  },
  {
   "cell_type": "code",
   "execution_count": 10,
   "metadata": {},
   "outputs": [],
   "source": [
    "pil_image = Image.fromarray(image)\n",
    "d = ImageDraw.Draw(pil_image)"
   ]
  },
  {
   "cell_type": "code",
   "execution_count": 16,
   "metadata": {},
   "outputs": [
    {
     "name": "stdout",
     "output_type": "stream",
     "text": [
      "The chin in this face has the following points: [(260, 461), (255, 518), (256, 577), (264, 634), (274, 691), (297, 743), (336, 787), (389, 820), (457, 830), (527, 825), (583, 794), (629, 754), (660, 703), (676, 644), (686, 582), (691, 521), (689, 459)]\n",
      "The left_eyebrow in this face has the following points: [(282, 437), (307, 403), (352, 397), (395, 405), (437, 423)]\n",
      "The right_eyebrow in this face has the following points: [(488, 423), (535, 404), (581, 396), (628, 404), (656, 439)]\n",
      "The nose_bridge in this face has the following points: [(463, 461), (463, 501), (463, 540), (463, 581)]\n",
      "The nose_tip in this face has the following points: [(409, 601), (435, 609), (463, 618), (491, 609), (519, 602)]\n",
      "The left_eye in this face has the following points: [(328, 471), (350, 453), (381, 455), (408, 478), (378, 483), (348, 481)]\n",
      "The right_eye in this face has the following points: [(526, 478), (553, 456), (585, 453), (609, 473), (587, 484), (556, 484)]\n",
      "The top_lip in this face has the following points: [(373, 684), (404, 667), (436, 657), (463, 665), (490, 658), (523, 667), (554, 687), (539, 688), (491, 683), (463, 687), (434, 683), (389, 686)]\n",
      "The bottom_lip in this face has the following points: [(554, 687), (521, 706), (489, 714), (460, 715), (431, 712), (402, 704), (373, 684), (389, 686), (433, 676), (461, 679), (489, 677), (539, 688)]\n"
     ]
    }
   ],
   "source": [
    "for face_landmarks in face_landmarks_list:\n",
    "    # Print the location of each facial feature in this image\n",
    "    facial_features = [\n",
    "        'chin',\n",
    "        'left_eyebrow',\n",
    "        'right_eyebrow',\n",
    "        'nose_bridge',\n",
    "        'nose_tip',\n",
    "        'left_eye',\n",
    "        'right_eye',\n",
    "        'top_lip',\n",
    "        'bottom_lip'\n",
    "    ]\n",
    "    \n",
    "    for facial_feature in facial_features:\n",
    "        print(\"The {} in this face has the following points: {}\".format(facial_feature, face_landmarks[facial_feature]))\n",
    "\n",
    "    # Let's trace out each facial feature in the image with a line!\n",
    "    for facial_feature in facial_features:\n",
    "        d.line(face_landmarks[facial_feature], width=5)\n",
    "\n",
    "# Display drawed image\n",
    "#pil_image.show()\n",
    "pil_image.save('test.png')"
   ]
  },
  {
   "cell_type": "code",
   "execution_count": 24,
   "metadata": {},
   "outputs": [],
   "source": [
    "def draw_line(ax,x1,y1,x2,y2,color='black'):\n",
    "    ax.annotate('', # empty text\n",
    "                xy=(x1, y1),\n",
    "                xytext=(x2, y2),\n",
    "                ha='center', # ha = 'left',\n",
    "                va='bottom',\n",
    "                arrowprops=dict(edgecolor=color,arrowstyle=\"<->\",linestyle='--') # facecolor=color,\n",
    "               )\n",
    "    \n",
    "def add_index(ax,text,x,y,v_offset=3,color='black'):\n",
    "    ax.annotate(text,\n",
    "                xy=(x, y),\n",
    "                xytext=(0, v_offset),  # 3 points vertical offset\n",
    "                textcoords='offset points',\n",
    "                ha='center', # ha = 'left',\n",
    "                va='bottom',\n",
    "                color=color\n",
    "               )"
   ]
  },
  {
   "cell_type": "code",
   "execution_count": 34,
   "metadata": {},
   "outputs": [],
   "source": [
    "def eye():\n",
    "    left_eye = [(328, 471), (350, 453), (381, 455), (408, 478), (378, 483), (348, 481)]\n",
    "    right_eye = [(526, 478), (553, 456), (585, 453), (609, 473), (587, 484), (556, 484)]\n",
    "    x1 = [ x for x,y in left_eye]\n",
    "    y1 = [ y for x,y in left_eye]\n",
    "    x2 = [ x for x,y in right_eye]\n",
    "    y2 = [ y for x,y in right_eye]\n",
    "    left_eye_center = [368.0, 474.5]\n",
    "    right_eye_center = [567.5, 475.5]\n",
    "    x_values = [left_eye_center[0], right_eye_center[0]]\n",
    "    y_values = [left_eye_center[1], right_eye_center[1]]\n",
    "    fig, ax = plt.subplots()\n",
    "    ax.plot(x1, y1,color='green', marker='*')\n",
    "    ax.plot(x2, y2,color='blue', marker='*')\n",
    "    ax.plot(x_values, y_values, marker='o')\n",
    "    plt.gca().invert_yaxis()\n",
    "    \n",
    "    for i in range(6):\n",
    "        x = left_eye[i][0]\n",
    "        y = left_eye[i][1]\n",
    "        add_index(ax,str(i),x,y,color='green',v_offset=5)\n",
    "        \n",
    "    for i in range(6):\n",
    "        x = right_eye[i][0]\n",
    "        y = right_eye[i][1]\n",
    "        add_index(ax,str(i),x,y,color='green',v_offset=-20)\n",
    "        \n",
    "    plt.show()\n",
    "    "
   ]
  },
  {
   "cell_type": "code",
   "execution_count": 35,
   "metadata": {},
   "outputs": [
    {
     "data": {
      "image/png": "[encoded data removed]",
      "text/plain": [
       "<Figure size 432x288 with 1 Axes>"
      ]
     },
     "metadata": {
      "needs_background": "light"
     },
     "output_type": "display_data"
    }
   ],
   "source": [
    "eye()"
   ]
  },
  {
   "cell_type": "code",
   "execution_count": 29,
   "metadata": {},
   "outputs": [
    {
     "name": "stdout",
     "output_type": "stream",
     "text": [
      "Mid point of left eye: (368.0, 474.5)\n",
      "Mid point of right eye: (567.5, 475.5)\n"
     ]
    }
   ],
   "source": [
    "x1, y1 = 328, 471\n",
    "x2, y2 = 408, 478\n",
    "x_m_point = (x1 + x2)/2\n",
    "y_m_point = (y1 + y2)/2\n",
    "print(f\"Mid point of left eye: {x_m_point, y_m_point}\")\n",
    "x1, y1 = 526, 478\n",
    "x2, y2 = 609, 473\n",
    "x_m_point = (x1 + x2)/2\n",
    "y_m_point = (y1 + y2)/2\n",
    "print(f\"Mid point of right eye: {x_m_point, y_m_point}\")"
   ]
  },
  {
   "cell_type": "code",
   "execution_count": 42,
   "metadata": {},
   "outputs": [
    {
     "data": {
      "text/plain": [
       "-179.71280551549282"
      ]
     },
     "execution_count": 42,
     "metadata": {},
     "output_type": "execute_result"
    }
   ],
   "source": [
    "left_eye_center = [368.0, 474.5]\n",
    "right_eye_center = [567.5, 475.5]\n",
    "dy = right_eye_center[1] - left_eye_center[1]\n",
    "dx = right_eye_center[0] - left_eye_center[0]\n",
    "angle = np.degrees(np.arctan2(dy, dx)) - 180\n",
    "angle"
   ]
  },
  {
   "cell_type": "code",
   "execution_count": 43,
   "metadata": {},
   "outputs": [
    {
     "name": "stdout",
     "output_type": "stream",
     "text": [
      "good score\n"
     ]
    }
   ],
   "source": [
    "if (angle<5) or (angle<-175):\n",
    "    print(\"good score\")\n",
    "else:\n",
    "    print(\"bad score\")"
   ]
  },
  {
   "cell_type": "code",
   "execution_count": null,
   "metadata": {},
   "outputs": [],
   "source": []
  }
 ],
 "metadata": {
  "kernelspec": {
   "display_name": "face_recognition",
   "language": "python",
   "name": "torch"
  },
  "language_info": {
   "codemirror_mode": {
    "name": "ipython",
    "version": 3
   },
   "file_extension": ".py",
   "mimetype": "text/x-python",
   "name": "python",
   "nbconvert_exporter": "python",
   "pygments_lexer": "ipython3",
   "version": "3.7.7"
  }
 },
 "nbformat": 4,
 "nbformat_minor": 2
}
