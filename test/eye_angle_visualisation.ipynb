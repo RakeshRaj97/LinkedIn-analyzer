{
 "cells": [
  {
   "cell_type": "code",
   "execution_count": 2,
   "metadata": {},
   "outputs": [
    {
     "ename": "ModuleNotFoundError",
     "evalue": "No module named 'cv2'",
     "output_type": "error",
     "traceback": [
      "\u001b[0;31m---------------------------------------------------------------------------\u001b[0m",
      "\u001b[0;31mModuleNotFoundError\u001b[0m                       Traceback (most recent call last)",
      "\u001b[0;32m<ipython-input-2-0879e474647f>\u001b[0m in \u001b[0;36m<module>\u001b[0;34m()\u001b[0m\n\u001b[0;32m----> 1\u001b[0;31m \u001b[0;32mimport\u001b[0m \u001b[0mcv2\u001b[0m\u001b[0;34m\u001b[0m\u001b[0m\n\u001b[0m\u001b[1;32m      2\u001b[0m \u001b[0;32mimport\u001b[0m \u001b[0mface_recognition\u001b[0m\u001b[0;34m\u001b[0m\u001b[0m\n\u001b[1;32m      3\u001b[0m \u001b[0;32mimport\u001b[0m \u001b[0mnumpy\u001b[0m \u001b[0;32mas\u001b[0m \u001b[0mnp\u001b[0m\u001b[0;34m\u001b[0m\u001b[0m\n\u001b[1;32m      4\u001b[0m \u001b[0;32mimport\u001b[0m \u001b[0mmatplotlib\u001b[0m\u001b[0;34m.\u001b[0m\u001b[0mpyplot\u001b[0m \u001b[0;32mas\u001b[0m \u001b[0mplt\u001b[0m\u001b[0;34m\u001b[0m\u001b[0m\n\u001b[1;32m      5\u001b[0m \u001b[0;32mfrom\u001b[0m \u001b[0mPIL\u001b[0m \u001b[0;32mimport\u001b[0m \u001b[0mImage\u001b[0m\u001b[0;34m,\u001b[0m \u001b[0mImageDraw\u001b[0m\u001b[0;34m\u001b[0m\u001b[0m\n",
      "\u001b[0;31mModuleNotFoundError\u001b[0m: No module named 'cv2'"
     ]
    }
   ],
   "source": [
    "import cv2\n",
    "import face_recognition\n",
    "import numpy as np\n",
    "import matplotlib.pyplot as plt\n",
    "from PIL import Image, ImageDraw\n",
    "%matplotlib inline"
   ]
  },
  {
   "cell_type": "code",
   "execution_count": null,
   "metadata": {},
   "outputs": [],
   "source": [
    "image_file = \"scraped_image.jpg\"\n",
    "image = face_recognition.load_image_file(image_file)\n",
    "face_landmarks_list = face_recognition.face_landmarks(image)"
   ]
  },
  {
   "cell_type": "code",
   "execution_count": null,
   "metadata": {},
   "outputs": [],
   "source": [
    "for d in face_landmarks_list:\n",
    "    left_eye = (d['left_eye'])\n",
    "    right_eye = (d['right_eye'])\n"
   ]
  },
  {
   "cell_type": "code",
   "execution_count": null,
   "metadata": {},
   "outputs": [],
   "source": [
    "print(\"I found {} face(s) in this photograph.\".format(len(face_landmarks_list)))"
   ]
  },
  {
   "cell_type": "code",
   "execution_count": null,
   "metadata": {},
   "outputs": [],
   "source": [
    "pil_image = Image.fromarray(image)\n",
    "d = ImageDraw.Draw(pil_image)"
   ]
  },
  {
   "cell_type": "code",
   "execution_count": null,
   "metadata": {},
   "outputs": [],
   "source": [
    "for face_landmarks in face_landmarks_list:\n",
    "    # Print the location of each facial feature in this image\n",
    "    facial_features = [\n",
    "        'chin',\n",
    "        'left_eyebrow',\n",
    "        'right_eyebrow',\n",
    "        'nose_bridge',\n",
    "        'nose_tip',\n",
    "        'left_eye',\n",
    "        'right_eye',\n",
    "        'top_lip',\n",
    "        'bottom_lip'\n",
    "    ]\n",
    "    \n",
    "    for facial_feature in facial_features:\n",
    "        print(\"The {} in this face has the following points: {}\".format(facial_feature, face_landmarks[facial_feature]))\n",
    "\n",
    "    # Let's trace out each facial feature in the image with a line!\n",
    "    for facial_feature in facial_features:\n",
    "        d.line(face_landmarks[facial_feature], width=5)\n",
    "\n",
    "# Display drawed image\n",
    "#pil_image.show()\n",
    "pil_image.save('test.png')"
   ]
  },
  {
   "cell_type": "code",
   "execution_count": null,
   "metadata": {},
   "outputs": [],
   "source": [
    "def draw_line(ax,x1,y1,x2,y2,color='black'):\n",
    "    ax.annotate('', # empty text\n",
    "                xy=(x1, y1),\n",
    "                xytext=(x2, y2),\n",
    "                ha='center', # ha = 'left',\n",
    "                va='bottom',\n",
    "                arrowprops=dict(edgecolor=color,arrowstyle=\"<->\",linestyle='--') # facecolor=color,\n",
    "               )\n",
    "    \n",
    "def add_index(ax,text,x,y,v_offset=3,color='black'):\n",
    "    ax.annotate(text,\n",
    "                xy=(x, y),\n",
    "                xytext=(0, v_offset),  # 3 points vertical offset\n",
    "                textcoords='offset points',\n",
    "                ha='center', # ha = 'left',\n",
    "                va='bottom',\n",
    "                color=color\n",
    "               )"
   ]
  },
  {
   "cell_type": "code",
   "execution_count": null,
   "metadata": {},
   "outputs": [],
   "source": [
    "x1, y1 = left_eye[0][0], left_eye[0][1] \n",
    "x2, y2 = left_eye[3][0], left_eye[3][1]\n",
    "x_m_left = (x1 + x2)/2\n",
    "y_m_left = (y1 + y2)/2\n",
    "print(f\"Mid point of left eye: {x_m_left, y_m_left}\")\n",
    "x1, y1 = right_eye[0][0], right_eye[0][1] \n",
    "x2, y2 = right_eye[3][0], right_eye[3][1]\n",
    "x_m_right = (x1 + x2)/2\n",
    "y_m_right = (y1 + y2)/2\n",
    "print(f\"Mid point of right eye: {x_m_right, y_m_right}\")\n",
    "\n"
   ]
  },
  {
   "cell_type": "code",
   "execution_count": null,
   "metadata": {},
   "outputs": [],
   "source": [
    "def eye():\n",
    "#     left_eye = [(328, 471), (350, 453), (381, 455), (408, 478), (378, 483), (348, 481)]\n",
    "#     right_eye = [(526, 478), (553, 456), (585, 453), (609, 473), (587, 484), (556, 484)]\n",
    "    x1 = [ x for x,y in left_eye]\n",
    "    y1 = [ y for x,y in left_eye]\n",
    "    x2 = [ x for x,y in right_eye]\n",
    "    y2 = [ y for x,y in right_eye]\n",
    "    left_eye_center = [x_m_left, y_m_left]\n",
    "    right_eye_center = [x_m_right, y_m_right]\n",
    "    x_values = [left_eye_center[0], right_eye_center[0]]\n",
    "    y_values = [left_eye_center[1], right_eye_center[1]]\n",
    "    fig, ax = plt.subplots()\n",
    "    ax.plot(x1, y1,color='green', marker='*')\n",
    "    ax.plot(x2, y2,color='blue', marker='*')\n",
    "    ax.plot(x_values, y_values, marker='o')\n",
    "    plt.gca().invert_yaxis()\n",
    "    \n",
    "    for i in range(6):\n",
    "        x = left_eye[i][0]\n",
    "        y = left_eye[i][1]\n",
    "        add_index(ax,str(i),x,y,color='green',v_offset=5)\n",
    "        \n",
    "    for i in range(6):\n",
    "        x = right_eye[i][0]\n",
    "        y = right_eye[i][1]\n",
    "        add_index(ax,str(i),x,y,color='green',v_offset=-20)\n",
    "        \n",
    "    plt.show()\n",
    "    "
   ]
  },
  {
   "cell_type": "code",
   "execution_count": null,
   "metadata": {},
   "outputs": [],
   "source": [
    "eye()"
   ]
  },
  {
   "cell_type": "code",
   "execution_count": null,
   "metadata": {},
   "outputs": [],
   "source": [
    "x1, y1 = 328, 471 \n",
    "x2, y2 = 408, 478\n",
    "x_m_point = (x1 + x2)/2\n",
    "y_m_point = (y1 + y2)/2\n",
    "print(f\"Mid point of left eye: {x_m_point, y_m_point}\")\n",
    "x1, y1 = 526, 478\n",
    "x2, y2 = 609, 473\n",
    "x_m_point = (x1 + x2)/2\n",
    "y_m_point = (y1 + y2)/2\n",
    "print(f\"Mid point of right eye: {x_m_point, y_m_point}\")"
   ]
  },
  {
   "cell_type": "code",
   "execution_count": null,
   "metadata": {},
   "outputs": [],
   "source": [
    "left_eye_center = [x_m_left, y_m_left]\n",
    "right_eye_center = [x_m_right, y_m_right]\n",
    "dy = right_eye_center[1] - left_eye_center[1]\n",
    "dx = right_eye_center[0] - left_eye_center[0]\n",
    "angle = np.degrees(np.arctan2(dy, dx)) - 180\n",
    "angle=abs(angle)\n",
    "angle"
   ]
  },
  {
   "cell_type": "code",
   "execution_count": null,
   "metadata": {},
   "outputs": [],
   "source": [
    "if (angle>0 and angle<5) or (angle>175 and angle<180):\n",
    "    print(\"good score\")\n",
    "else:\n",
    "    print(\"bad score\")"
   ]
  },
  {
   "cell_type": "code",
   "execution_count": null,
   "metadata": {},
   "outputs": [],
   "source": []
  }
 ],
 "metadata": {
  "kernelspec": {
   "display_name": "face",
   "language": "python",
   "name": "face"
  },
  "language_info": {
   "codemirror_mode": {
    "name": "ipython",
    "version": 3
   },
   "file_extension": ".py",
   "mimetype": "text/x-python",
   "name": "python",
   "nbconvert_exporter": "python",
   "pygments_lexer": "ipython3",
   "version": "3.6.4"
  }
 },
 "nbformat": 4,
 "nbformat_minor": 2
}
